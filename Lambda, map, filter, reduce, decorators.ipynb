{
  "nbformat": 4,
  "nbformat_minor": 0,
  "metadata": {
    "colab": {
      "provenance": [],
      "authorship_tag": "ABX9TyNjEKQ0I5yjYm7CMor4o7D0",
      "include_colab_link": true
    },
    "kernelspec": {
      "name": "python3",
      "display_name": "Python 3"
    },
    "language_info": {
      "name": "python"
    }
  },
  "cells": [
    {
      "cell_type": "markdown",
      "metadata": {
        "id": "view-in-github",
        "colab_type": "text"
      },
      "source": [
        "<a href=\"https://colab.research.google.com/github/YeongjiLee0115/githubtest/blob/main/Lambda%2C%20map%2C%20filter%2C%20reduce%2C%20decorators.ipynb\" target=\"_parent\"><img src=\"https://colab.research.google.com/assets/colab-badge.svg\" alt=\"Open In Colab\"/></a>"
      ]
    },
    {
      "cell_type": "code",
      "execution_count": null,
      "metadata": {
        "id": "3pkfcR7KFlXD"
      },
      "outputs": [],
      "source": [
        "#lamda function\n",
        "\n",
        "def square(x):\n",
        "  return x*x\n",
        "\n",
        "def cube(x):\n",
        "  return x**3\n",
        "\n",
        "def apply_function(func,x):\n",
        "  return func(x)\n",
        "\n"
      ]
    },
    {
      "cell_type": "code",
      "source": [
        "apply_function(square, 2)"
      ],
      "metadata": {
        "colab": {
          "base_uri": "https://localhost:8080/"
        },
        "id": "bW0UznjDF-S3",
        "outputId": "7ff5f548-d29e-4270-beee-df1861e659c9"
      },
      "execution_count": null,
      "outputs": [
        {
          "output_type": "execute_result",
          "data": {
            "text/plain": [
              "4"
            ]
          },
          "metadata": {},
          "execution_count": 2
        }
      ]
    },
    {
      "cell_type": "code",
      "source": [
        "apply_function(lambda x: x*x, 2)\n",
        "\n",
        "#square(2) = lambda x: x*x\n",
        "#input to lambda calculation is other functions\n",
        "#lambda is a function that doens't have name, and it can contain any argument for the function\n",
        "\n",
        "apply_function(lambda x, y, z : )#right side of it is whatever you return"
      ],
      "metadata": {
        "id": "Pn7EW0VaGBLI"
      },
      "execution_count": null,
      "outputs": []
    },
    {
      "cell_type": "code",
      "source": [
        "a = lambda x, y: x+y\n",
        "a(1, 2)"
      ],
      "metadata": {
        "id": "cgg9UiF01Kr8",
        "outputId": "7868e73f-481e-4383-9330-bdc326896136",
        "colab": {
          "base_uri": "https://localhost:8080/"
        }
      },
      "execution_count": 6,
      "outputs": [
        {
          "output_type": "execute_result",
          "data": {
            "text/plain": [
              "3"
            ]
          },
          "metadata": {},
          "execution_count": 6
        }
      ]
    },
    {
      "cell_type": "code",
      "source": [
        "#lambda in lambda\n",
        "\n",
        "high_order = lambda x, func: x + func(x)\n",
        "high_order(2, lambda x: x*x)\n"
      ],
      "metadata": {
        "id": "P8V662Hq17US",
        "outputId": "dadbf95e-8b07-4656-8141-dc0dac8037de",
        "colab": {
          "base_uri": "https://localhost:8080/"
        }
      },
      "execution_count": 8,
      "outputs": [
        {
          "output_type": "execute_result",
          "data": {
            "text/plain": [
              "6"
            ]
          },
          "metadata": {},
          "execution_count": 8
        }
      ]
    },
    {
      "cell_type": "code",
      "source": [
        "type(lambda x : x*x)\n",
        "\n",
        "square_function = lambda x : x*x #you can name the lambda expression\n",
        "type(square_function)\n",
        "\n",
        "addition_one = lambda x: x+1\n",
        "type(addition_one)\n",
        "addition_one(1)\n",
        "\n",
        "#This is equivalent to the following\n",
        "#def addition_one(x):\n",
        "#.       return x+1"
      ],
      "metadata": {
        "colab": {
          "base_uri": "https://localhost:8080/"
        },
        "id": "7f67XBU8GyR-",
        "outputId": "d63ec131-a1f5-4b49-c591-923981a2a706"
      },
      "execution_count": 2,
      "outputs": [
        {
          "output_type": "execute_result",
          "data": {
            "text/plain": [
              "2"
            ]
          },
          "metadata": {},
          "execution_count": 2
        }
      ]
    },
    {
      "cell_type": "code",
      "source": [
        "function_i_made = lambda x: x * x if x %2 == 0 else 3\n"
      ],
      "metadata": {
        "colab": {
          "base_uri": "https://localhost:8080/"
        },
        "id": "jJS9HPjVG_HZ",
        "outputId": "665d932e-8a80-410e-8ba7-723bacafea63"
      },
      "execution_count": null,
      "outputs": [
        {
          "output_type": "execute_result",
          "data": {
            "text/plain": [
              "3"
            ]
          },
          "metadata": {},
          "execution_count": 6
        }
      ]
    },
    {
      "cell_type": "code",
      "source": [
        "function_i_made(2)\n"
      ],
      "metadata": {
        "colab": {
          "base_uri": "https://localhost:8080/"
        },
        "id": "7vQ9uanoHLG2",
        "outputId": "56925b89-c93a-4432-f7a1-01b71cfc67fd"
      },
      "execution_count": null,
      "outputs": [
        {
          "output_type": "execute_result",
          "data": {
            "text/plain": [
              "4"
            ]
          },
          "metadata": {},
          "execution_count": 7
        }
      ]
    },
    {
      "cell_type": "code",
      "source": [
        "function_i_made(5)"
      ],
      "metadata": {
        "colab": {
          "base_uri": "https://localhost:8080/"
        },
        "id": "rl48fmh6HME5",
        "outputId": "277b97eb-54f3-47cc-fc20-941d5b895390"
      },
      "execution_count": null,
      "outputs": [
        {
          "output_type": "execute_result",
          "data": {
            "text/plain": [
              "3"
            ]
          },
          "metadata": {},
          "execution_count": 8
        }
      ]
    },
    {
      "cell_type": "code",
      "source": [
        "apply_function(lambda x: x*x, 3)\n"
      ],
      "metadata": {
        "colab": {
          "base_uri": "https://localhost:8080/"
        },
        "id": "AShqUg4eHXvS",
        "outputId": "146f04d6-cfdb-4b16-9af6-d46b8197486a"
      },
      "execution_count": null,
      "outputs": [
        {
          "output_type": "execute_result",
          "data": {
            "text/plain": [
              "9"
            ]
          },
          "metadata": {},
          "execution_count": 9
        }
      ]
    },
    {
      "cell_type": "code",
      "source": [
        "x = [3, 2, 1]\n",
        "x.sort()\n",
        "x"
      ],
      "metadata": {
        "colab": {
          "base_uri": "https://localhost:8080/"
        },
        "id": "ODXndrfuH1k6",
        "outputId": "4a976f20-3672-4d21-a227-7be136de9a37"
      },
      "execution_count": null,
      "outputs": [
        {
          "output_type": "execute_result",
          "data": {
            "text/plain": [
              "[1, 2, 3]"
            ]
          },
          "metadata": {},
          "execution_count": 11
        }
      ]
    },
    {
      "cell_type": "code",
      "source": [
        "x.sort(reverse=True)\n",
        "x"
      ],
      "metadata": {
        "colab": {
          "base_uri": "https://localhost:8080/"
        },
        "id": "Aa5P2LpaH68x",
        "outputId": "f768bbaa-52a8-496d-86b0-306127058a0d"
      },
      "execution_count": null,
      "outputs": [
        {
          "output_type": "execute_result",
          "data": {
            "text/plain": [
              "[3, 2, 1]"
            ]
          },
          "metadata": {},
          "execution_count": 16
        }
      ]
    },
    {
      "cell_type": "code",
      "source": [
        "x.sort(key=lambda x: x if x %2 ==0 else 10 * x)\n",
        "x # 3 becomes 30, 2 becomes 2, 1 becomes 10, and sort them by this new value"
      ],
      "metadata": {
        "colab": {
          "base_uri": "https://localhost:8080/"
        },
        "id": "Ob0OPyUvIQVy",
        "outputId": "00b63b59-7c83-4505-e213-2d732c44d4ec"
      },
      "execution_count": null,
      "outputs": [
        {
          "output_type": "execute_result",
          "data": {
            "text/plain": [
              "[2, 1, 3]"
            ]
          },
          "metadata": {},
          "execution_count": 18
        }
      ]
    },
    {
      "cell_type": "code",
      "source": [
        "#MAP Function"
      ],
      "metadata": {
        "id": "VWYY8V3x6Ubs"
      },
      "execution_count": null,
      "outputs": []
    },
    {
      "cell_type": "code",
      "source": [
        "#apply_function is a mini version of map\n",
        "#apply the function to the all iterables\n",
        "#alternative of list comprehension\n",
        "# map(func, iterables)\n",
        "\n",
        "my_pets = ['alfred', 'tabitha', 'william']\n",
        "upper_my_pets = list(map(str.upper, my_pets))\n",
        "print(upper_my_pets)\n",
        "\n",
        "\n",
        "list(map(lambda x: x**2, [1,2,3,4,5])) #lazily evaluate\n",
        "\n",
        "scores = [3.56773, 5.57668, 4.00914, 56.24241, 9.01344, 32.00013]\n",
        "round_up = list(map(round,scores))\n",
        "print(round_up)\n",
        "\n",
        "#round function can take two arguments, the number to round up and the number of decimals\n",
        "round_up_diff = list(map(round, scores, range(1,7)))\n",
        "print(round_up_diff)\n",
        "\n",
        "#if the length is different, it just stops and return the result.\n",
        "round_up_diff_2 = list(map(round, scores, range(1,3)))\n",
        "print(round_up_diff_2)\n"
      ],
      "metadata": {
        "colab": {
          "base_uri": "https://localhost:8080/"
        },
        "id": "tBBKWaa1KVlE",
        "outputId": "241bbca6-a56e-4ac0-ff21-fd1613b29983"
      },
      "execution_count": 12,
      "outputs": [
        {
          "output_type": "stream",
          "name": "stdout",
          "text": [
            "['ALFRED', 'TABITHA', 'WILLIAM']\n",
            "[4, 6, 4, 56, 9, 32]\n",
            "[3.6, 5.58, 4.009, 56.2424, 9.01344, 32.00013]\n",
            "[3.6, 5.58]\n"
          ]
        }
      ]
    },
    {
      "cell_type": "code",
      "source": [
        "#ZIP Function"
      ],
      "metadata": {
        "id": "9tgapLT06Yqy"
      },
      "execution_count": null,
      "outputs": []
    },
    {
      "cell_type": "code",
      "source": [
        "names = ['YJ', 'Jane', 'Caroline', 'Minsu', 'Kay']\n",
        "numbers = [1, 43, 2, 5, 3]\n",
        "\n",
        "name_by_number = list(zip(names, numbers))\n",
        "print(name_by_number)\n",
        "\n",
        "#if the length is different, it also just stops and return the result\n",
        "numbers_shorter_length = [1, 4]\n",
        "name_by_number = list(zip(names, numbers_shorter_length))\n",
        "print(name_by_number)"
      ],
      "metadata": {
        "id": "EwJ2aXlR5xcz",
        "outputId": "9876a270-3ce3-4cc0-9e6d-7bc36bab581e",
        "colab": {
          "base_uri": "https://localhost:8080/"
        }
      },
      "execution_count": 15,
      "outputs": [
        {
          "output_type": "stream",
          "name": "stdout",
          "text": [
            "[('YJ', 1), ('Jane', 43), ('Caroline', 2), ('Minsu', 5), ('Kay', 3)]\n",
            "[('YJ', 1), ('Jane', 4)]\n"
          ]
        }
      ]
    },
    {
      "cell_type": "code",
      "source": [
        "#FILTER Function"
      ],
      "metadata": {
        "id": "at3lloZfKlJj"
      },
      "execution_count": null,
      "outputs": []
    },
    {
      "cell_type": "code",
      "source": [
        "#filter(func, iterable)\n",
        "# func argument should return a boolean type\n",
        "# it filters away the elements which is false\n",
        "\n",
        "\n",
        "scores = [66, 90, 68, 59, 76, 60, 88, 74, 81, 65]\n",
        "\n",
        "def is_A_student(score):\n",
        "    return score > 75\n",
        "\n",
        "over_75 = list(filter(is_A_student, scores))\n",
        "\n",
        "print(over_75)"
      ],
      "metadata": {
        "id": "91VWNN466ehh",
        "outputId": "c47b42e0-af73-4a06-ff66-5bb6a2f60f0e",
        "colab": {
          "base_uri": "https://localhost:8080/"
        }
      },
      "execution_count": 16,
      "outputs": [
        {
          "output_type": "stream",
          "name": "stdout",
          "text": [
            "[90, 76, 88, 81]\n"
          ]
        }
      ]
    },
    {
      "cell_type": "code",
      "source": [
        "over_80 = list(filter(lambda x: x > 80, scores))\n",
        "\n",
        "print(over_80)"
      ],
      "metadata": {
        "id": "GjyZwMZm85Xj",
        "outputId": "865c08a0-8544-4733-f441-67243aea6dd6",
        "colab": {
          "base_uri": "https://localhost:8080/"
        }
      },
      "execution_count": 17,
      "outputs": [
        {
          "output_type": "stream",
          "name": "stdout",
          "text": [
            "[90, 88, 81]\n"
          ]
        }
      ]
    },
    {
      "cell_type": "code",
      "source": [
        "#REDUCE Function"
      ],
      "metadata": {
        "id": "WEpt_Y009FWg"
      },
      "execution_count": null,
      "outputs": []
    },
    {
      "cell_type": "code",
      "source": [
        "#reduce(func, iterable[, initial])\n",
        "#initial is an optional argument \n",
        "# it takes first and second elements and passes them to the function\n",
        "# the function result value returned to reduce\n",
        "# reduce will apply it as the first element and take third element as the second one and compute again.. (cumulatively)\n",
        "\n",
        "from functools import reduce\n",
        "\n",
        "numbers = [3, 4, 6, 9, 34, 12]\n",
        "\n",
        "def custom_sum(first, second):\n",
        "    return first + second\n",
        "\n",
        "result = reduce(custom_sum, numbers)\n",
        "print(result)\n",
        "\n",
        "\n",
        "small_numbers = [1, 2, 3]\n",
        "result2 = reduce(custom_sum, small_numbers)\n",
        "print(result2)\n"
      ],
      "metadata": {
        "id": "NMsHdj7n9HKY",
        "outputId": "38fc2912-d087-429b-a617-168460b5ce68",
        "colab": {
          "base_uri": "https://localhost:8080/"
        }
      },
      "execution_count": 19,
      "outputs": [
        {
          "output_type": "stream",
          "name": "stdout",
          "text": [
            "68\n",
            "6\n"
          ]
        }
      ]
    },
    {
      "cell_type": "code",
      "source": [
        "#DECORATORS Function"
      ],
      "metadata": {
        "id": "O0s5f8xb-ebP"
      },
      "execution_count": null,
      "outputs": []
    },
    {
      "cell_type": "code",
      "source": [
        "#higher-order functions\n",
        "#takes another function and extends the behavior of the latter function without explicitly modifying it\n",
        "\n",
        "def parent(num):\n",
        "  def first_child():\n",
        "    return \"hi, i'm emma\"\n",
        "  \n",
        "  def second_child():\n",
        "    return \"hi, i'm john\"\n",
        "  \n",
        "  if num ==1:\n",
        "    return first_child\n",
        "\n",
        "  else :\n",
        "    return second_child"
      ],
      "metadata": {
        "id": "YRGK8Hcr-g2L"
      },
      "execution_count": 20,
      "outputs": []
    },
    {
      "cell_type": "code",
      "source": [
        "first = parent(1)\n",
        "print(type(first))\n",
        "second = parent(2)\n",
        "print(type(second))"
      ],
      "metadata": {
        "id": "q1NFEhnbASnz",
        "outputId": "8a6c6324-9c83-42c5-c21b-bb597a67f308",
        "colab": {
          "base_uri": "https://localhost:8080/"
        }
      },
      "execution_count": 22,
      "outputs": [
        {
          "output_type": "stream",
          "name": "stdout",
          "text": [
            "<class 'function'>\n",
            "<class 'function'>\n"
          ]
        }
      ]
    },
    {
      "cell_type": "code",
      "source": [
        "first()"
      ],
      "metadata": {
        "id": "aKVHWuS_AY8_",
        "outputId": "2beee45a-9802-4391-dafe-7478ef357a6f",
        "colab": {
          "base_uri": "https://localhost:8080/",
          "height": 35
        }
      },
      "execution_count": 26,
      "outputs": [
        {
          "output_type": "execute_result",
          "data": {
            "text/plain": [
              "\"hi, i'm emma\""
            ],
            "application/vnd.google.colaboratory.intrinsic+json": {
              "type": "string"
            }
          },
          "metadata": {},
          "execution_count": 26
        }
      ]
    },
    {
      "cell_type": "code",
      "source": [
        "def my_decorator(func):\n",
        "    def wrapper():\n",
        "        print(\"Something is happening before the function is called.\")\n",
        "        func()\n",
        "        print(\"Something is happening after the function is called.\")\n",
        "    return wrapper\n",
        "\n",
        "def say_whee():\n",
        "    print(\"Whee!\")\n",
        "\n",
        "say_whee = my_decorator(say_whee)"
      ],
      "metadata": {
        "id": "N99kx6dQAiKX"
      },
      "execution_count": 27,
      "outputs": []
    },
    {
      "cell_type": "code",
      "source": [
        "say_whee()"
      ],
      "metadata": {
        "id": "Pc8U5tCGA_FO",
        "outputId": "8ee8b867-0e33-4816-8240-53a4a85f41ce",
        "colab": {
          "base_uri": "https://localhost:8080/"
        }
      },
      "execution_count": 28,
      "outputs": [
        {
          "output_type": "stream",
          "name": "stdout",
          "text": [
            "Something is happening before the function is called.\n",
            "Whee!\n",
            "Something is happening after the function is called.\n"
          ]
        }
      ]
    },
    {
      "cell_type": "code",
      "source": [
        "from datetime import datetime\n",
        "\n",
        "def not_during_the_night(func):\n",
        "    def wrapper():\n",
        "        if 7 <= datetime.now().hour < 22:\n",
        "            func()\n",
        "        else:\n",
        "            pass  # Hush, the neighbors are asleep\n",
        "    return wrapper\n",
        "\n",
        "def say_whee():\n",
        "    print(\"Whee!\")\n",
        "\n",
        "say_whee = not_during_the_night(say_whee)"
      ],
      "metadata": {
        "id": "dHTKcMjoBLoc"
      },
      "execution_count": 29,
      "outputs": []
    },
    {
      "cell_type": "code",
      "source": [
        "say_whee()"
      ],
      "metadata": {
        "id": "gG1Y_HEDBLnZ",
        "outputId": "f9935709-fe64-4c37-8947-3fdda4b43317",
        "colab": {
          "base_uri": "https://localhost:8080/"
        }
      },
      "execution_count": 30,
      "outputs": [
        {
          "output_type": "stream",
          "name": "stdout",
          "text": [
            "Whee!\n"
          ]
        }
      ]
    }
  ]
}