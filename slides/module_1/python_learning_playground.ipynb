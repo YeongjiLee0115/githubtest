{
  "nbformat": 4,
  "nbformat_minor": 0,
  "metadata": {
    "colab": {
      "provenance": [],
      "include_colab_link": true
    },
    "kernelspec": {
      "name": "python3",
      "display_name": "Python 3"
    },
    "language_info": {
      "name": "python"
    }
  },
  "cells": [
    {
      "cell_type": "markdown",
      "metadata": {
        "id": "view-in-github",
        "colab_type": "text"
      },
      "source": [
        "<a href=\"https://colab.research.google.com/github/YeongjiLee0115/githubtest/blob/main/slides/module_1/python_learning_playground.ipynb\" target=\"_parent\"><img src=\"https://colab.research.google.com/assets/colab-badge.svg\" alt=\"Open In Colab\"/></a>"
      ]
    },
    {
      "cell_type": "markdown",
      "source": [
        "# Welcome to the Python playground!\n",
        "\n",
        "We've got a few activities planned for you today-- pick and choose your favorites!\n",
        "\n",
        "![](https://media2.giphy.com/media/3oKIPnAiaMCws8nOsE/giphy.gif)"
      ],
      "metadata": {
        "id": "z7k4lvjqBzF-"
      }
    },
    {
      "cell_type": "markdown",
      "source": [
        "# Variable Scavenger Hunt\n",
        "\n",
        "In each line of python below, add a comment (`#`) with each variable's datatype and value, like this:\n",
        "\n",
        "```python\n",
        "x = 1.2345  # type: float; value: 1.2345\n",
        "```"
      ],
      "metadata": {
        "id": "rjzIGWDSCyrG"
      }
    },
    {
      "cell_type": "code",
      "execution_count": 3,
      "metadata": {
        "id": "ORSyTkFakBOX"
      },
      "outputs": [],
      "source": [
        "num = 5 #type: int; value: 5\n",
        "\n",
        "str1 = \"hello\" #type: str\n",
        "\n",
        "str2 = 'world' #type: str\n",
        "result = str1 + \" \" + str2 #type: str\n",
        "print(result) #type: none\n"
      ]
    },
    {
      "cell_type": "markdown",
      "source": [
        "Now write your own code by following the prompts in each comment:"
      ],
      "metadata": {
        "id": "Ox8IyaNRDX2H"
      }
    },
    {
      "cell_type": "code",
      "source": [
        "# Define a variable 'num' with datatype 'integer' and value '10'\n",
        "num = 10\n",
        "# Define a variable 'name' with datatype 'string' and value 'John'\n",
        "name = 'John'\n",
        "# Define a variable 'is_student' with datatype 'boolean' and value 'True'\n",
        "is_student = True\n",
        "print(type(is_student))"
      ],
      "metadata": {
        "id": "Z42ZKskVkMDa",
        "outputId": "6c96823f-0ac1-4940-dede-2a7769dda40b",
        "colab": {
          "base_uri": "https://localhost:8080/"
        }
      },
      "execution_count": 4,
      "outputs": [
        {
          "output_type": "stream",
          "name": "stdout",
          "text": [
            "<class 'bool'>\n"
          ]
        }
      ]
    },
    {
      "cell_type": "markdown",
      "source": [
        "# Function Mad Libs\n",
        "\n",
        "I'll provide a function with some blanks (`___`) for arguments.  Your job is to replace the blanks to create functions that do the desired tasks.  For example if I gave you this code block:\n",
        "```python\n",
        "def multiply_numbers(___, ___):\n",
        "  return ___ * ___\n",
        "```\n",
        "\n",
        "you could fill in the blanks as:\n",
        "```python\n",
        "def multiply_numbers(x, y):\n",
        "  return x * y\n",
        "```"
      ],
      "metadata": {
        "id": "8xvu_BaqDh1y"
      }
    },
    {
      "cell_type": "code",
      "source": [
        "def add_numbers(x,y):\n",
        "  result = x + y\n",
        "  return result"
      ],
      "metadata": {
        "id": "JP1-QtgbDgeJ"
      },
      "execution_count": null,
      "outputs": []
    },
    {
      "cell_type": "code",
      "source": [
        "def square_it(x):\n",
        "  return x **2"
      ],
      "metadata": {
        "id": "NHuvGY3TEQT9"
      },
      "execution_count": null,
      "outputs": []
    },
    {
      "cell_type": "code",
      "source": [
        "def convert_to_string(x):\n",
        "  return str(x)"
      ],
      "metadata": {
        "id": "u8GpmHCLEYar"
      },
      "execution_count": null,
      "outputs": []
    },
    {
      "cell_type": "code",
      "source": [
        "def factorial(x):\n",
        "  if x==1 :\n",
        "    return 1\n",
        "  else:\n",
        "    return x * factorial(x-1)"
      ],
      "metadata": {
        "id": "TrD5Ojz4EjNN"
      },
      "execution_count": 14,
      "outputs": []
    },
    {
      "cell_type": "code",
      "source": [],
      "metadata": {
        "id": "RvHFSzepC9UZ",
        "outputId": "8acec89a-e169-454c-b70e-c74487171e4c",
        "colab": {
          "base_uri": "https://localhost:8080/",
          "height": 166
        }
      },
      "execution_count": 5,
      "outputs": [
        {
          "output_type": "error",
          "ename": "NameError",
          "evalue": "ignored",
          "traceback": [
            "\u001b[0;31m---------------------------------------------------------------------------\u001b[0m",
            "\u001b[0;31mNameError\u001b[0m                                 Traceback (most recent call last)",
            "\u001b[0;32m<ipython-input-5-d089f35637fa>\u001b[0m in \u001b[0;36m<cell line: 1>\u001b[0;34m()\u001b[0m\n\u001b[0;32m----> 1\u001b[0;31m \u001b[0mprint\u001b[0m\u001b[0;34m(\u001b[0m\u001b[0mfactorial\u001b[0m\u001b[0;34m(\u001b[0m\u001b[0;36m3\u001b[0m\u001b[0;34m)\u001b[0m\u001b[0;34m)\u001b[0m\u001b[0;34m\u001b[0m\u001b[0;34m\u001b[0m\u001b[0m\n\u001b[0m",
            "\u001b[0;31mNameError\u001b[0m: name 'factorial' is not defined"
          ]
        }
      ]
    },
    {
      "cell_type": "markdown",
      "source": [
        "# Conditional Card Game\n",
        "\n",
        "Below, we provide a function that draws cards for two players.  Player 1's card is stored in the variable `p1` and Player 2's card is stored in the variable `p2`.  Your job is to use conditional statements to write a set of rules (that you make up!) for determining which player \"wins\" the hand.\n",
        "\n",
        "For example, if your rules say \"whoever gets the bigger card wins\" then you might write something like:\n",
        "```python\n",
        "if p1 > p2:\n",
        "  winner = \"Player 1\"\n",
        "elif p2 > p1:\n",
        "  winner = \"Player 2\"\n",
        "else:\n",
        "  winner = \"It's a tie\"\n",
        "```\n",
        "\n",
        "Try to come up with something interesting/fun."
      ],
      "metadata": {
        "id": "4MvmDbTVEw3O"
      }
    },
    {
      "cell_type": "code",
      "source": [
        "import numpy as np\n",
        "\n",
        "def draw_cards(max_val=10):\n",
        "  assert type(max_val) is int, 'The maximum value must be an integer'\n",
        "  assert max_val >= 2, 'There need to be at least 2 cards'\n",
        "  shuffle = np.random.permutation(max_val)\n",
        "  return shuffle[0] + 1, shuffle[1] + 1\n",
        "\n",
        "p1, p2 = draw_cards()\n",
        "print(f'Player 1 drew a \"{p1}\" and Player 2 drew a \"{p2}\"')"
      ],
      "metadata": {
        "colab": {
          "base_uri": "https://localhost:8080/"
        },
        "id": "TNUSZDUrFTQt",
        "outputId": "0bd07375-539f-45b6-de4a-2f83a99d6b8c"
      },
      "execution_count": 22,
      "outputs": [
        {
          "output_type": "stream",
          "name": "stdout",
          "text": [
            "Player 1 drew a \"3\" and Player 2 drew a \"4\"\n"
          ]
        }
      ]
    },
    {
      "cell_type": "code",
      "source": [
        "winner = 'Unknown'\n",
        "\n",
        "# define your game's rules here!  you should reassign the variable \"winner\" to be\n",
        "# either \"Player 1\" or \"Player 2\"\n",
        "#---BEGIN---\n",
        "\n",
        "#---END---\n",
        "\n",
        "def card_games(x,y):\n",
        "\n",
        "  x_cards = factorial(x)\n",
        "  y_cards = factorial(y)\n",
        "  if x_cards > y_cards:\n",
        "    print('the winner is x!')\n",
        "  elif y_cards > x_cards:\n",
        "      print('the winner is y!')\n",
        "  else:\n",
        "      print('its a tie!')\n",
        "\n",
        "card_games(p1, p2)\n",
        "\n"
      ],
      "metadata": {
        "id": "z9u3ycCpENtW",
        "outputId": "6f9fc850-cf11-42f4-ec2b-dedd27122064",
        "colab": {
          "base_uri": "https://localhost:8080/"
        }
      },
      "execution_count": 23,
      "outputs": [
        {
          "output_type": "stream",
          "name": "stdout",
          "text": [
            "the winner is y!\n"
          ]
        }
      ]
    },
    {
      "cell_type": "code",
      "source": [
        "import numpy as np\n",
        "print(np.random.permutation(10))\n",
        "a = np.random.permutation(10)\n"
      ],
      "metadata": {
        "id": "4njwyolDE1bO",
        "outputId": "deff599a-34e6-48aa-bc68-981f2641b577",
        "colab": {
          "base_uri": "https://localhost:8080/"
        }
      },
      "execution_count": 9,
      "outputs": [
        {
          "output_type": "stream",
          "name": "stdout",
          "text": [
            "[9 3 1 0 8 4 6 7 2 5]\n"
          ]
        }
      ]
    },
    {
      "cell_type": "markdown",
      "source": [
        "# Looping puzzles\n",
        "\n",
        "Use `for` and/or `while` loops to fill in the functions below"
      ],
      "metadata": {
        "id": "V914ieEOHXi6"
      }
    },
    {
      "cell_type": "code",
      "source": [
        "# count the number of times a given character, x, appears in the string my_string:\n",
        "def count_char(x, my_string):\n",
        "  count = 0\n",
        "  for a in my_string:\n",
        "    if a == x:\n",
        "      count +=1\n",
        "    return count\n",
        "  ### fill this in...\n",
        "\n",
        "count_char('a', 'happy birthay')"
      ],
      "metadata": {
        "id": "h5uCVWT7GiAE",
        "outputId": "276111a8-952c-4c91-c8bf-a0d40b7a1650",
        "colab": {
          "base_uri": "https://localhost:8080/"
        }
      },
      "execution_count": 3,
      "outputs": [
        {
          "output_type": "execute_result",
          "data": {
            "text/plain": [
              "0"
            ]
          },
          "metadata": {},
          "execution_count": 3
        }
      ]
    },
    {
      "cell_type": "code",
      "source": [
        "# write a function that takes a string, my_string, as input and removes all vowels\n",
        "def vowel_remover(my_string):\n",
        "  ### fill me in!\n",
        "  result = ''\n",
        "  vowel_list = ['a', 'e, 'i', 'o', 'u']\n",
        "  for c in my_string:\n",
        "    if c.lower() not in vowel_list\n",
        "      result +=c\n",
        "  return result\n",
        "\n",
        "vowel\n"
      ],
      "metadata": {
        "id": "F86bvAT7H2D0"
      },
      "execution_count": null,
      "outputs": []
    },
    {
      "cell_type": "code",
      "source": [
        "# write a function that removes any letters in my_string that appear more than once\n",
        "def remove_duplicates(my_string):\n",
        "  ### fill in...\n",
        "  counts ={}\n",
        "  for c in my_string:\n",
        "    if c in counts:\n",
        "      counts[c] +=1\n",
        "    else:\n",
        "      counts[c] =1\n",
        "    result =''\n",
        "    for c in my_string:\n",
        "      if counts[c] ==1:\n",
        "        result += case\n",
        "    return result"
      ],
      "metadata": {
        "id": "cBPwHFZ0ID9m"
      },
      "execution_count": null,
      "outputs": []
    },
    {
      "cell_type": "markdown",
      "source": [
        "# Expert Zone\n",
        "\n",
        "![](https://gifdb.com/images/high/glitching-hacker-hacking-v56g4l1vaykmsno6.gif)\n",
        "\n",
        "If you're already a `l33t h4x0r`, why not take on a little challenge from [leetcode](https://leetcode.com/)?  (First sign up for a free account if you don't already have one!)\n",
        "\n",
        "Some fun problems you can answer only knowing concepts we've learned about so far, by difficulty:\n",
        "  - Easy problems:\n",
        "    - [Length of last word](https://leetcode.com/problems/length-of-last-word/)\n",
        "    - [Excel sheet column title](https://leetcode.com/problems/excel-sheet-column-title/)\n",
        "    - [Roman to integer](https://leetcode.com/problems/roman-to-integer/)\n",
        "  - Medium problems:\n",
        "    - [Reverse integer](https://leetcode.com/problems/reverse-integer/)\n",
        "    - [String to integer](https://leetcode.com/problems/string-to-integer-atoi/)\n",
        "    - [Valid sudoku](https://leetcode.com/problems/valid-sudoku/)\n",
        "  - Hard problems:\n",
        "    - [Median of two sorted arrays](https://leetcode.com/problems/median-of-two-sorted-arrays/)\n",
        "    - [Regular expression matching](https://leetcode.com/problems/regular-expression-matching/)\n",
        "    - [N-queens](https://leetcode.com/problems/n-queens/)\n",
        "\n",
        "\n"
      ],
      "metadata": {
        "id": "fzbQ0MmqIQmr"
      }
    }
  ]
}