{
  "nbformat": 4,
  "nbformat_minor": 0,
  "metadata": {
    "colab": {
      "name": "pythonic_code.ipynb",
      "provenance": [],
      "include_colab_link": true
    },
    "kernelspec": {
      "name": "python3",
      "display_name": "Python 3"
    }
  },
  "cells": [
    {
      "cell_type": "markdown",
      "metadata": {
        "id": "view-in-github",
        "colab_type": "text"
      },
      "source": [
        "<a href=\"https://colab.research.google.com/github/YeongjiLee0115/githubtest/blob/main/slides/module_2/pythonic_code.ipynb\" target=\"_parent\"><img src=\"https://colab.research.google.com/assets/colab-badge.svg\" alt=\"Open In Colab\"/></a>"
      ]
    },
    {
      "cell_type": "markdown",
      "metadata": {
        "id": "qR8_HVkkIDAL"
      },
      "source": [
        "# Writing Pythonic code\n",
        "\n",
        "The \"Pythonic\" way of writing code is described in [20 aphorisms (only 19 of which have been written down)](https://www.python.org/dev/peps/pep-0020/):"
      ]
    },
    {
      "cell_type": "code",
      "metadata": {
        "id": "YyrBA0D8IkAb",
        "outputId": "bbb15b91-09b1-4477-e500-4f017ce25ed4",
        "colab": {
          "base_uri": "https://localhost:8080/",
          "height": 374
        }
      },
      "source": [
        "import this"
      ],
      "execution_count": null,
      "outputs": [
        {
          "output_type": "stream",
          "text": [
            "The Zen of Python, by Tim Peters\n",
            "\n",
            "Beautiful is better than ugly.\n",
            "Explicit is better than implicit.\n",
            "Simple is better than complex.\n",
            "Complex is better than complicated.\n",
            "Flat is better than nested.\n",
            "Sparse is better than dense.\n",
            "Readability counts.\n",
            "Special cases aren't special enough to break the rules.\n",
            "Although practicality beats purity.\n",
            "Errors should never pass silently.\n",
            "Unless explicitly silenced.\n",
            "In the face of ambiguity, refuse the temptation to guess.\n",
            "There should be one-- and preferably only one --obvious way to do it.\n",
            "Although that way may not be obvious at first unless you're Dutch.\n",
            "Now is better than never.\n",
            "Although never is often better than *right* now.\n",
            "If the implementation is hard to explain, it's a bad idea.\n",
            "If the implementation is easy to explain, it may be a good idea.\n",
            "Namespaces are one honking great idea -- let's do more of those!\n"
          ],
          "name": "stdout"
        }
      ]
    },
    {
      "cell_type": "markdown",
      "metadata": {
        "id": "ibkBCaw6InZY"
      },
      "source": [
        "in short, the Python ideal is to strive in every circumstance to write clear, readable, short code.\n",
        "\n",
        "With this in mind, consider this simple `for` loop for creating a `list` containing the even squares of the integers 0 -- 9:"
      ]
    },
    {
      "cell_type": "code",
      "metadata": {
        "id": "J0pc_TQzJsrn",
        "outputId": "5e5f7fa3-c912-4bf1-a042-c6c9ffc447a8",
        "colab": {
          "base_uri": "https://localhost:8080/",
          "height": 34
        }
      },
      "source": [
        "x = []\n",
        "for i in range(10):\n",
        "  y = i ** 2\n",
        "  if y % 2 == 0:\n",
        "    x.append(y)\n",
        "\n",
        "print(x)"
      ],
      "execution_count": null,
      "outputs": [
        {
          "output_type": "stream",
          "text": [
            "[0, 4, 16, 36, 64]\n"
          ],
          "name": "stdout"
        }
      ]
    },
    {
      "cell_type": "markdown",
      "metadata": {
        "id": "cYEXqlb4J1YF"
      },
      "source": [
        "The Pythonic \"shorthand\" for the above block of code is to use **list comprehensions**.\n",
        "\n",
        "# List comprehensions\n",
        "\n",
        "A list comprehension is a concise syntax for creating a list:\n",
        "```\n",
        "y = [myfunc(i) for i in x if condition(i)]\n",
        "```\n",
        "Let's unpack this:\n",
        "- `y` is the new list we're creating.\n",
        "- `x` is a list of values that `y` will be based on.\n",
        "- `i` is our way of referring to each individual element of `x`.\n",
        "- `myfunc` is a function that we'll apply to each element of `x`.\n",
        "- `condition` is a statement that modifies which elements of `x` are included; only elements `i` where `condition(i)` is `True` will be used in constructing `y`.  The `if condition(i)` part of the list comprehension is optional; if we exclude it (as in `[myfunc(i) for i in x]`), all elements of `x` will be used to condstruct `y`.\n",
        "\n",
        "One line of code has packed in an impressive amount of functionality.  Further, list comprehensions can be easier to read than complicated loops.  For example, the list comprehension syntax makes it clear that the final result will be a `list`, and it forces us to clearly indicate the way element's value is computed.\n",
        "\n",
        "As an example, we can re-write the above `for` loop using a list comphrension.  First, let's use a list comprehension to print out the squares of the integers from 0 -- 9:"
      ]
    },
    {
      "cell_type": "code",
      "source": [
        "sqaure =[]\n",
        "for i in range(1,11):\n",
        "  sqaure.append(i**3)\n",
        "print(sqaure)"
      ],
      "metadata": {
        "id": "yPq77qnUl3T-",
        "outputId": "9ba4b6cc-aea1-4fe7-e3aa-4e5497da2528",
        "colab": {
          "base_uri": "https://localhost:8080/"
        }
      },
      "execution_count": 2,
      "outputs": [
        {
          "output_type": "stream",
          "name": "stdout",
          "text": [
            "[1, 8, 27, 64, 125, 216, 343, 512, 729, 1000]\n"
          ]
        }
      ]
    },
    {
      "cell_type": "code",
      "source": [
        "#[___ for i in range(1,11)]\n",
        "\n",
        "f = [i*100 if i%2 ==0 else i for i in range(1,11)] ## taking all the elements but doing different calculations\n",
        "print(f)\n",
        "\n",
        "g = [i **2 for i in range(1,11) if i %2 ==0] ##if you want to include only some elements with condition\n",
        "print(g)\n",
        "\n",
        "# any iterable can be a source\n",
        "\n",
        "\n",
        "\n"
      ],
      "metadata": {
        "id": "uQJQkhTqmQ5w",
        "outputId": "695b5565-7dab-47ed-f001-988e6f7217b0",
        "colab": {
          "base_uri": "https://localhost:8080/"
        }
      },
      "execution_count": 12,
      "outputs": [
        {
          "output_type": "stream",
          "name": "stdout",
          "text": [
            "[1, 2, 3, 4, 5, 6, 7, 8, 9, 10]\n",
            "[1, 4, 9, 16, 25, 36, 49, 64, 81, 100]\n",
            "[3, 4, 5, 6, 7, 8, 9, 10, 11, 12]\n",
            "[3, 3, 3, 3, 3, 3, 3, 3, 3, 3]\n",
            "[3, 3, 3, 3, 3, 3, 3, 3, 3, 3]\n",
            "[3, 6, 9, 12, 15, 18, 21, 24, 27, 30]\n",
            "[1, 2, 9, 4, 25, 6, 49, 8, 81, 10]\n",
            "[1, 200, 3, 400, 5, 600, 7, 800, 9, 1000]\n",
            "[4, 16, 36, 64, 100]\n"
          ]
        }
      ]
    },
    {
      "cell_type": "code",
      "metadata": {
        "id": "IAuI_s9IM9yi",
        "outputId": "f6725038-ca64-4f74-9034-d7639ea9e503",
        "colab": {
          "base_uri": "https://localhost:8080/",
          "height": 34
        }
      },
      "source": [
        "y = [i ** 2 for i in range(10)]\n",
        "print(y)"
      ],
      "execution_count": null,
      "outputs": [
        {
          "output_type": "stream",
          "text": [
            "[0, 1, 4, 9, 16, 25, 36, 49, 64, 81]\n"
          ],
          "name": "stdout"
        }
      ]
    },
    {
      "cell_type": "markdown",
      "metadata": {
        "id": "fMmqcr9xNObk"
      },
      "source": [
        "We can filter out the odd values in two ways; one minimizes the number of repeated calculations and the second is more compact.  First, given that we've already computed `y`, we can use the `condition(i)` filtering mechanism to remove odd values:"
      ]
    },
    {
      "cell_type": "code",
      "metadata": {
        "id": "K7oUy2U3Nlp3",
        "outputId": "ba59db50-f0e9-427d-e099-a3bead623341",
        "colab": {
          "base_uri": "https://localhost:8080/",
          "height": 34
        }
      },
      "source": [
        "z = [i for i in y if i % 2 == 0]\n",
        "print(z)"
      ],
      "execution_count": null,
      "outputs": [
        {
          "output_type": "stream",
          "text": [
            "[0, 4, 16, 36, 64]\n"
          ],
          "name": "stdout"
        }
      ]
    },
    {
      "cell_type": "markdown",
      "metadata": {
        "id": "iad46NU_NrgB"
      },
      "source": [
        "We can also construct the entire `y` list in one line (although this requires squaring each element of `range(10)` twice):"
      ]
    },
    {
      "cell_type": "code",
      "metadata": {
        "id": "BPfNgqAtNqUt",
        "outputId": "7aa623fc-30da-4eab-c562-073b011642ba",
        "colab": {
          "base_uri": "https://localhost:8080/",
          "height": 34
        }
      },
      "source": [
        "y = [i ** 2 for i in range(10) if (i ** 2) % 2 == 0]\n",
        "print(y)"
      ],
      "execution_count": null,
      "outputs": [
        {
          "output_type": "stream",
          "text": [
            "[0, 4, 16, 36, 64]\n"
          ],
          "name": "stdout"
        }
      ]
    },
    {
      "cell_type": "code",
      "source": [
        "[i**2 for i in range(1,11)]\n",
        "list((i**2 for i in range(1,11))) #when you want to make a quick list\n"
      ],
      "metadata": {
        "id": "mhyHIAa7wRbn",
        "outputId": "12ddc1fd-64f6-48ac-faa3-072e034eab2c",
        "colab": {
          "base_uri": "https://localhost:8080/"
        }
      },
      "execution_count": 16,
      "outputs": [
        {
          "output_type": "execute_result",
          "data": {
            "text/plain": [
              "[1, 4, 9, 16, 25, 36, 49, 64, 81, 100]"
            ]
          },
          "metadata": {},
          "execution_count": 16
        }
      ]
    },
    {
      "cell_type": "code",
      "source": [
        "x1 = (i**2 for i in range(10000000))\n",
        "#this is receipe, it doens't compute right away"
      ],
      "metadata": {
        "id": "BsmU16aAxNzr"
      },
      "execution_count": 17,
      "outputs": []
    },
    {
      "cell_type": "code",
      "source": [
        "x2 = [i**2 for i in range(10000000)]\n",
        "#this actually does compute. takes longer"
      ],
      "metadata": {
        "id": "btma3sqxxPl_"
      },
      "execution_count": 18,
      "outputs": []
    },
    {
      "cell_type": "code",
      "source": [
        "x3= {i**2 for i in range(10)}\n",
        "type(x3)\n",
        "#this is \"set\" data type\n",
        "#you're gonna lose the effect of order, the first item input is not always the first element\n",
        "#get more efficiency\n",
        "\n",
        "#dictionary is a kind of set except that it has a key\n",
        "{i: i**2 for i in range(10)}\n",
        "{i%2: i**2 for i in range(10)} #overlapping keys are overwritten\n",
        "{f : load_data(f) for f in files}"
      ],
      "metadata": {
        "id": "qdDntZe3yWbT",
        "outputId": "c503278a-75d8-46d2-cfec-d58baefdac9e",
        "colab": {
          "base_uri": "https://localhost:8080/"
        }
      },
      "execution_count": 22,
      "outputs": [
        {
          "output_type": "execute_result",
          "data": {
            "text/plain": [
              "{0: 64, 1: 81}"
            ]
          },
          "metadata": {},
          "execution_count": 22
        }
      ]
    },
    {
      "cell_type": "markdown",
      "metadata": {
        "id": "EoJJh_IXOLbR"
      },
      "source": [
        "## What have we gained?\n",
        "\n",
        "List comprehensions do not add functionality to Python; we could exactly replicate the functionality of any list comprehension using an appropriate `for` loop.  What list comprehensions give us is a clear and compact notation for carrying out a common programming task.\n",
        "\n",
        "# Generators and lazy evaluation\n",
        "\n",
        "In some of the previous tutorials, we've been using the `range` function to write `for` loops-- e.g.\n",
        "```\n",
        "for i in range(99, -1, -1):\n",
        "   print(i, 'bottle(s) of beer on the wall,', i, 'bottle(s) of beer...')\n",
        "```\n",
        "We've been thinking about `range(99, -1, -1)` as a list of integers from 99 to 0, counting down by 1s.  But let's take a closer look to see what's really going on:"
      ]
    },
    {
      "cell_type": "code",
      "metadata": {
        "id": "w_r7GfzyV4Q5",
        "outputId": "2906d3aa-3040-44f1-b9b0-6922e8fb436b",
        "colab": {
          "base_uri": "https://localhost:8080/",
          "height": 34
        }
      },
      "source": [
        "print(range(99, -1, -1))"
      ],
      "execution_count": null,
      "outputs": [
        {
          "output_type": "stream",
          "text": [
            "range(99, -1, -1)\n"
          ],
          "name": "stdout"
        }
      ]
    },
    {
      "cell_type": "markdown",
      "metadata": {
        "id": "nEpbdT34V6-Z"
      },
      "source": [
        "Why aren't 100 numbers printed out in this example?  The reason is that `range` is a `generator`, not a `list`.  Whereas the elements of a `list` object are all stored in memory at each moment of the object's existence, the values of each element of a `generator` object are only computed and stored in memory at the moment those values are needed to do further computations.  This property, of  carrying out each computation only once it is necessary to proceed (rather than when the associated objects are created) is called *lazy evaluation*.\n",
        "\n",
        "As an extreme example, consider how we might manipulate an infinitely long sequence (e.g. the set of positive integers).  Without explicitly representing every integer in memory, it's still possible for us to know what the *n*th integer in the sequence is.  We could also (in principle) know what the *n*th integer minus the *m*th integer is, for arbitrary (positive integer) values of *n* and *m*.  These operations would be impossible (due to requiring infinite memory) if we had to explicitly store the full sequence.  Python `generator` objects allow us to create, manipulate, and utilize very long (or even infinite!) sequences in analogous ways to how `list` objects are used.\n",
        "\n",
        "The Pythonic way to create a `generator` is very similar to the list comprehension syntax, but replacing the outermost square brackets (`[]`) with parentheses (`()`):"
      ]
    },
    {
      "cell_type": "code",
      "metadata": {
        "id": "ltkMmYWTNAdJ",
        "colab": {
          "base_uri": "https://localhost:8080/",
          "height": 34
        },
        "outputId": "da3cd524-bd5f-4be3-bfba-f9bdb4f3d3b2"
      },
      "source": [
        "y = (i ** 2 for i in range(10) if (i ** 2) % 2 == 0)\n",
        "print(y)"
      ],
      "execution_count": null,
      "outputs": [
        {
          "output_type": "stream",
          "text": [
            "<generator object <genexpr> at 0x7f70fd0a6888>\n"
          ],
          "name": "stdout"
        }
      ]
    },
    {
      "cell_type": "markdown",
      "metadata": {
        "id": "0romhm1TNKCd"
      },
      "source": [
        "Note that the actual values in `y` haven't yet been computed.  Nevertheless, we can iterate through the elements of `y` in a `for` loop, just as if `y` was a `list`:"
      ]
    },
    {
      "cell_type": "code",
      "metadata": {
        "id": "uH0-swZ8NgWL",
        "colab": {
          "base_uri": "https://localhost:8080/",
          "height": 102
        },
        "outputId": "7ce248ce-2e74-43e7-fe92-da712918adcd"
      },
      "source": [
        "for i in y:\n",
        "  print(i)"
      ],
      "execution_count": null,
      "outputs": [
        {
          "output_type": "stream",
          "text": [
            "0\n",
            "4\n",
            "16\n",
            "36\n",
            "64\n"
          ],
          "name": "stdout"
        }
      ]
    },
    {
      "cell_type": "markdown",
      "metadata": {
        "id": "ZbGVQEj0P7wx"
      },
      "source": [
        "Another way to create a `generator` is to use the `yield` keyword, which is kind of like an alternative form of `return`.  The difference between `yield` and `return` is:\n",
        "- When `return` is called, the function exits and the namespace created for that function is destroyed.  The function evaluates to the returned value.  The next time the function is called, the function behaves just like the first time it was called.\n",
        "- When `yield` is called, the namespace (and the interpreter's position within the function) is preserved.  The function evaluates to the yielded value.  The next time the function is called, the interpreter restores the saved namespace and picks up execution where the previous call left off (after the `yield` statement).\n",
        "\n",
        "This formulation supports some additional functionality, such as infinite sequences.  For example, we can create a generator to print out the first `n` even squares:"
      ]
    },
    {
      "cell_type": "code",
      "metadata": {
        "id": "b7azcectREJ7"
      },
      "source": [
        "def even_square_getter():\n",
        "  i = 0\n",
        "  while True: #this is an infinite loop! think about why this is ok...\n",
        "    while (i ** 2) % 2 != 0: #skip over odd squares\n",
        "      i += 1\n",
        "    yield i ** 2\n",
        "    i += 1"
      ],
      "execution_count": null,
      "outputs": []
    },
    {
      "cell_type": "markdown",
      "metadata": {
        "id": "aCk9OBYYRjG9"
      },
      "source": [
        "Let's test out our generator by printing out the first 100 even squares:"
      ]
    },
    {
      "cell_type": "code",
      "metadata": {
        "id": "LRZSINLcRopv",
        "colab": {
          "base_uri": "https://localhost:8080/",
          "height": 54
        },
        "outputId": "413ab03d-0b44-4c03-f7af-c1048c108824"
      },
      "source": [
        "for i, es in enumerate(even_square_getter()):\n",
        "  if i >= 100:\n",
        "    break\n",
        "  print(es, end=' ') #specifying end=' ' prints out a space after each number rather than a newline character"
      ],
      "execution_count": null,
      "outputs": [
        {
          "output_type": "stream",
          "text": [
            "0 4 16 36 64 100 144 196 256 324 400 484 576 676 784 900 1024 1156 1296 1444 1600 1764 1936 2116 2304 2500 2704 2916 3136 3364 3600 3844 4096 4356 4624 4900 5184 5476 5776 6084 6400 6724 7056 7396 7744 8100 8464 8836 9216 9604 10000 10404 10816 11236 11664 12100 12544 12996 13456 13924 14400 14884 15376 15876 16384 16900 17424 17956 18496 19044 19600 20164 20736 21316 21904 22500 23104 23716 24336 24964 25600 26244 26896 27556 28224 28900 29584 30276 30976 31684 32400 33124 33856 34596 35344 36100 36864 37636 38416 39204 "
          ],
          "name": "stdout"
        }
      ]
    },
    {
      "cell_type": "markdown",
      "metadata": {
        "id": "cinoDMrYSirU"
      },
      "source": [
        "As an exercise, try adding a `print` statements to `even_square_getter` to explore when:\n",
        "- the interpreter enters the function body\n",
        "- each value is computed\n",
        "- the internal iterator (`i`) is incremented\n",
        "\n",
        "## Iterators\n",
        "\n",
        "An interator is similar to a `generator` object in that it provides a mechanism for producing list-like sequences whose elements are evaluatated lazily.  Any class of object can be made into an iterator by adding two methods:\n",
        "- `__iter__`: called when the iterator is initialized.  This should return an object that has a `__next__` method.\n",
        "- `__next__`: called each time a new element is needed.  This should return the next value in the sequence.  At the end of the sequence (if it exists), the method should raise a `StopIteration` signal.\n",
        "\n",
        "Let's continue our example of printing out even squares using the iterator formulation:"
      ]
    },
    {
      "cell_type": "code",
      "source": [
        "[i **2 for i in range (1,11) if (i**2)%2 ==0]\n",
        "#but how do we know the range to make 10 elements of that list?\n",
        "#that's why we need the class and iterator below\n",
        "\n",
        "#we can loop over the class\n",
        "#lazy calculation, efficient in computing speed \n",
        "#you don't evaluate until you actually need\n",
        "for i in EvenSquareIterable(10):\n",
        "  print(i)\n",
        "\n",
        "# we cannot loop over the function\n",
        "def even_square_getter():\n",
        "  i = 0\n",
        "  while True: #this is an infinite loop! think about why this is ok...\n",
        "    while (i ** 2) % 2 != 0: #skip over odd squares\n",
        "      i += 1\n",
        "    yield i ** 2\n",
        "    i += 1"
      ],
      "metadata": {
        "id": "RsdyK5dEqwbn",
        "outputId": "49138bb7-b911-42d8-f03e-7c5ea7c3c6ec",
        "colab": {
          "base_uri": "https://localhost:8080/"
        }
      },
      "execution_count": 15,
      "outputs": [
        {
          "output_type": "stream",
          "name": "stdout",
          "text": [
            "4\n",
            "16\n",
            "36\n",
            "64\n",
            "100\n",
            "144\n",
            "196\n",
            "256\n",
            "324\n",
            "400\n"
          ]
        }
      ]
    },
    {
      "cell_type": "code",
      "metadata": {
        "id": "NREwSYHnRhzl"
      },
      "source": [
        "class EvenSquareIterable:\n",
        "  def __init__(self, n):    \n",
        "    self.n = n #the maximum number of squares to produce\n",
        "  \n",
        "  def __iter__(self):\n",
        "    self.i = 0 #base value that squares are computed from\n",
        "    self.j = 0 #the number of squares that have been produced so far\n",
        "    return self\n",
        "  \n",
        "  def __next__(self):\n",
        "    if self.j >= self.n:\n",
        "      raise StopIteration\n",
        "    \n",
        "    self.i += 1\n",
        "    while (self.i ** 2) % 2 != 0:\n",
        "      self.i += 1\n",
        "    \n",
        "    self.j += 1\n",
        "    return self.i ** 2"
      ],
      "execution_count": 14,
      "outputs": []
    },
    {
      "cell_type": "markdown",
      "metadata": {
        "id": "CMfA2OEhWfHj"
      },
      "source": [
        "Now we can use `EvenSquareIterable` to print out the first 20 even squares:"
      ]
    },
    {
      "cell_type": "code",
      "metadata": {
        "id": "tYZqfdSXWmA8",
        "colab": {
          "base_uri": "https://localhost:8080/",
          "height": 34
        },
        "outputId": "451dab69-fd93-41b4-dfb6-1162ee9398fc"
      },
      "source": [
        "for x in EvenSquareIterable(20):\n",
        "  print(x, end=' ')"
      ],
      "execution_count": null,
      "outputs": [
        {
          "output_type": "stream",
          "text": [
            "4 16 36 64 100 144 196 256 324 400 484 576 676 784 900 1024 1156 1296 1444 1600 "
          ],
          "name": "stdout"
        }
      ]
    },
    {
      "cell_type": "markdown",
      "metadata": {
        "id": "UizDeA7UYzvz"
      },
      "source": [
        "## Suggested exercises\n",
        "\n",
        "To solidify your understanding of list comprenensions, generators, and iterators, try to do the following:\n",
        "- Use a list comprehension to create a list of the integers from 1 to 15, but where all even numbers are multiplied by -1 (i.e. `[1, -2, 3, -4, 5, -6, 7, -8, 9, -10, 11, -12, 13, -14, 15]`)\n",
        "- Define a generator function that produces the values of `sin(x)` for `x` starting at 0 and incrementing by 0.1 radians with each new call\n",
        "- Define an iterable object that counts backwards (in increments of -1) down to 50, starting from 100.\n"
      ]
    },
    {
      "cell_type": "code",
      "metadata": {
        "id": "8zavd9lVb7mm"
      },
      "source": [
        "#use this cell to experiment..."
      ],
      "execution_count": null,
      "outputs": []
    }
  ]
}