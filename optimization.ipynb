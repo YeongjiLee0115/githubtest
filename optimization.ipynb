{
  "nbformat": 4,
  "nbformat_minor": 0,
  "metadata": {
    "colab": {
      "provenance": [],
      "authorship_tag": "ABX9TyNX+xoLQS1cyaPNDGGWUoEv",
      "include_colab_link": true
    },
    "kernelspec": {
      "name": "python3",
      "display_name": "Python 3"
    },
    "language_info": {
      "name": "python"
    }
  },
  "cells": [
    {
      "cell_type": "markdown",
      "metadata": {
        "id": "view-in-github",
        "colab_type": "text"
      },
      "source": [
        "<a href=\"https://colab.research.google.com/github/YeongjiLee0115/githubtest/blob/main/optimization.ipynb\" target=\"_parent\"><img src=\"https://colab.research.google.com/assets/colab-badge.svg\" alt=\"Open In Colab\"/></a>"
      ]
    },
    {
      "cell_type": "code",
      "execution_count": 1,
      "metadata": {
        "colab": {
          "base_uri": "https://localhost:8080/"
        },
        "id": "DHUuM_kYtzVl",
        "outputId": "aa2fa8b6-0ae6-4a63-9c57-bb10f43b2a04"
      },
      "outputs": [
        {
          "output_type": "execute_result",
          "data": {
            "text/plain": [
              "1"
            ]
          },
          "metadata": {},
          "execution_count": 1
        }
      ],
      "source": [
        "3//2 #drop decimal # you can use this to make it integer (evaluate even or odd without knowing it's integer)"
      ]
    },
    {
      "cell_type": "code",
      "source": [
        "n=10000\n",
        "for i in range(n):\n",
        "  for ji in range(i//2): #3/2 = 1.0 #4/2 = 1.0 #5/2 = 2.0 #6/2 = 3.0 #7/2 = 3.0 # doing this roughly half time of i\n",
        "    <do something>"
      ],
      "metadata": {
        "id": "vzYReStut8W7"
      },
      "execution_count": null,
      "outputs": []
    },
    {
      "cell_type": "code",
      "source": [
        "#start with big number\n",
        "#sort small par of it, and merge small parts together\n",
        "#total number of computation decrease to N logN #n log n algorithm\n",
        "\n",
        "# x=[1,4,2,4,5,6,2,3,7]\n",
        "# grab all the places where value is less than x[0], and sort those ->part 1\n",
        "# grab all the places where value is grater than x[0], and sort those -> part2\n",
        "# part1, a, part2\n",
        "# x[0] is pivot to what i'm comparing to\n",
        "\n",
        "def quick_sort(x): #sort array x\n",
        "  if len(x) <=1:\n",
        "    return x\n",
        "  else: #sorting implicitly\n",
        "    pivot = x[0]\n",
        "    # pivot = x[len(x) // 2] #taking the median element as a pivot\n",
        "    a = [i for i in x if i < pivot]\n",
        "    b = [i for i in x if i == pivot]\n",
        "    c = [i for i in x if i > pivot]\n",
        "  \n",
        "    return quick_sort(a) + b + quick_sort(c)\n",
        "\n"
      ],
      "metadata": {
        "id": "yLZhHfqYt7ax"
      },
      "execution_count": 2,
      "outputs": []
    },
    {
      "cell_type": "code",
      "source": [
        "x = [1, 34, 40, -4, 30, 59, 6, -3.5, -4, 40, 3055, 4, -43.5, 31]"
      ],
      "metadata": {
        "id": "sUaIwSRbxGr0"
      },
      "execution_count": 4,
      "outputs": []
    },
    {
      "cell_type": "code",
      "source": [
        "quick_sort(x)"
      ],
      "metadata": {
        "colab": {
          "base_uri": "https://localhost:8080/"
        },
        "id": "lu9-rDaRxTUJ",
        "outputId": "76c77893-8280-4822-ae51-2f3d975460d4"
      },
      "execution_count": 5,
      "outputs": [
        {
          "output_type": "execute_result",
          "data": {
            "text/plain": [
              "[-43.5, -4, -4, -3.5, 1, 4, 6, 30, 31, 34, 40, 40, 59, 3055]"
            ]
          },
          "metadata": {},
          "execution_count": 5
        }
      ]
    },
    {
      "cell_type": "code",
      "source": [
        "# simplest may be pick the first element as a pivot\n",
        "# picking median element would be the most efficient"
      ],
      "metadata": {
        "id": "Tbkw_9idxZv4"
      },
      "execution_count": null,
      "outputs": []
    },
    {
      "cell_type": "code",
      "source": [
        "# if I have a problem of size of N, how many steps do I need\n",
        "# how can we reduce those steps\n",
        "\n",
        "# 1) remove the nested loop or loop in steps\n",
        "# 2) profiling\n",
        "\n",
        "%%timeit\n",
        "# start the time and run your code, tell you how long it took\n",
        "\n",
        "sum = 0\n",
        "for i in range(10):\n",
        "  sum += 1\n",
        "#storage requirement would be 2, the value of sum, and the value of i"
      ],
      "metadata": {
        "colab": {
          "base_uri": "https://localhost:8080/"
        },
        "id": "7IvYO3UZylZB",
        "outputId": "7711c865-0bb8-4d0d-836b-64782ceb5575"
      },
      "execution_count": 7,
      "outputs": [
        {
          "output_type": "stream",
          "name": "stdout",
          "text": [
            "810 ns ± 260 ns per loop (mean ± std. dev. of 7 runs, 1000000 loops each)\n"
          ]
        }
      ]
    },
    {
      "cell_type": "code",
      "source": [
        "%%timeit\n",
        "things_to_sum = []\n",
        "for i in range(100):\n",
        "  things_to_sum.append(i)\n",
        "\n",
        "# storage requirement would be 10,000 slots\n",
        "# do calculation once, don't repeat, instead of looking it again, look up the answer\n",
        "# maximum storage, minimize the time\n",
        "# store nothing, everytime you need calculation again, you do it again, minimize the space, but maximize the time\n",
        "# In research setting, run time expensive, minimize the run time with the cost of storage.\n"
      ],
      "metadata": {
        "id": "0UvlUAPx1GzH"
      },
      "execution_count": null,
      "outputs": []
    }
  ]
}