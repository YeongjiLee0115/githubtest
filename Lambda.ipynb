{
  "nbformat": 4,
  "nbformat_minor": 0,
  "metadata": {
    "colab": {
      "provenance": [],
      "authorship_tag": "ABX9TyNmslXe5Lubtu/ZBvxBwdDK",
      "include_colab_link": true
    },
    "kernelspec": {
      "name": "python3",
      "display_name": "Python 3"
    },
    "language_info": {
      "name": "python"
    }
  },
  "cells": [
    {
      "cell_type": "markdown",
      "metadata": {
        "id": "view-in-github",
        "colab_type": "text"
      },
      "source": [
        "<a href=\"https://colab.research.google.com/github/YeongjiLee0115/githubtest/blob/main/Lambda.ipynb\" target=\"_parent\"><img src=\"https://colab.research.google.com/assets/colab-badge.svg\" alt=\"Open In Colab\"/></a>"
      ]
    },
    {
      "cell_type": "code",
      "execution_count": null,
      "metadata": {
        "id": "3pkfcR7KFlXD"
      },
      "outputs": [],
      "source": [
        "#lamda function\n",
        "\n",
        "def square(x):\n",
        "  return x*x\n",
        "\n",
        "def cube(x):\n",
        "  return x**3\n",
        "\n",
        "def apply_function(func,x):\n",
        "  return func(x)\n",
        "\n"
      ]
    },
    {
      "cell_type": "code",
      "source": [
        "apply_function(square, 2)"
      ],
      "metadata": {
        "colab": {
          "base_uri": "https://localhost:8080/"
        },
        "id": "bW0UznjDF-S3",
        "outputId": "7ff5f548-d29e-4270-beee-df1861e659c9"
      },
      "execution_count": null,
      "outputs": [
        {
          "output_type": "execute_result",
          "data": {
            "text/plain": [
              "4"
            ]
          },
          "metadata": {},
          "execution_count": 2
        }
      ]
    },
    {
      "cell_type": "code",
      "source": [
        "apply_function(lambda x: x*x, 2)\n",
        "\n",
        "#square(2) = lambda x: x*x\n",
        "#input to lambda calculation is other functions\n",
        "#lambda is a function tat doens't have name, and it can contain any argument for the function\n",
        "\n",
        "apply_function(lambda x, y, z : )#right side of it is whatever you return"
      ],
      "metadata": {
        "id": "Pn7EW0VaGBLI"
      },
      "execution_count": null,
      "outputs": []
    },
    {
      "cell_type": "code",
      "source": [
        "type(lambda x : x*x)\n",
        "\n",
        "square_function = lambda x : x*x\n",
        "type(square_function)"
      ],
      "metadata": {
        "colab": {
          "base_uri": "https://localhost:8080/"
        },
        "id": "7f67XBU8GyR-",
        "outputId": "5f937c46-6fbb-49ba-ee8b-195ce4e2a43b"
      },
      "execution_count": null,
      "outputs": [
        {
          "output_type": "execute_result",
          "data": {
            "text/plain": [
              "function"
            ]
          },
          "metadata": {},
          "execution_count": 5
        }
      ]
    },
    {
      "cell_type": "code",
      "source": [
        "function_i_made = lambda x: x * x if x %2 == 0 else 3\n"
      ],
      "metadata": {
        "colab": {
          "base_uri": "https://localhost:8080/"
        },
        "id": "jJS9HPjVG_HZ",
        "outputId": "665d932e-8a80-410e-8ba7-723bacafea63"
      },
      "execution_count": null,
      "outputs": [
        {
          "output_type": "execute_result",
          "data": {
            "text/plain": [
              "3"
            ]
          },
          "metadata": {},
          "execution_count": 6
        }
      ]
    },
    {
      "cell_type": "code",
      "source": [
        "function_i_made(2)\n"
      ],
      "metadata": {
        "colab": {
          "base_uri": "https://localhost:8080/"
        },
        "id": "7vQ9uanoHLG2",
        "outputId": "56925b89-c93a-4432-f7a1-01b71cfc67fd"
      },
      "execution_count": null,
      "outputs": [
        {
          "output_type": "execute_result",
          "data": {
            "text/plain": [
              "4"
            ]
          },
          "metadata": {},
          "execution_count": 7
        }
      ]
    },
    {
      "cell_type": "code",
      "source": [
        "function_i_made(5)"
      ],
      "metadata": {
        "colab": {
          "base_uri": "https://localhost:8080/"
        },
        "id": "rl48fmh6HME5",
        "outputId": "277b97eb-54f3-47cc-fc20-941d5b895390"
      },
      "execution_count": null,
      "outputs": [
        {
          "output_type": "execute_result",
          "data": {
            "text/plain": [
              "3"
            ]
          },
          "metadata": {},
          "execution_count": 8
        }
      ]
    },
    {
      "cell_type": "code",
      "source": [
        "apply_function(lambda x: x*x, 3)\n"
      ],
      "metadata": {
        "colab": {
          "base_uri": "https://localhost:8080/"
        },
        "id": "AShqUg4eHXvS",
        "outputId": "146f04d6-cfdb-4b16-9af6-d46b8197486a"
      },
      "execution_count": null,
      "outputs": [
        {
          "output_type": "execute_result",
          "data": {
            "text/plain": [
              "9"
            ]
          },
          "metadata": {},
          "execution_count": 9
        }
      ]
    },
    {
      "cell_type": "code",
      "source": [
        "x = [3, 2, 1]\n",
        "x.sort()\n",
        "x"
      ],
      "metadata": {
        "colab": {
          "base_uri": "https://localhost:8080/"
        },
        "id": "ODXndrfuH1k6",
        "outputId": "4a976f20-3672-4d21-a227-7be136de9a37"
      },
      "execution_count": null,
      "outputs": [
        {
          "output_type": "execute_result",
          "data": {
            "text/plain": [
              "[1, 2, 3]"
            ]
          },
          "metadata": {},
          "execution_count": 11
        }
      ]
    },
    {
      "cell_type": "code",
      "source": [
        "x.sort(reverse=True)\n",
        "x"
      ],
      "metadata": {
        "colab": {
          "base_uri": "https://localhost:8080/"
        },
        "id": "Aa5P2LpaH68x",
        "outputId": "f768bbaa-52a8-496d-86b0-306127058a0d"
      },
      "execution_count": null,
      "outputs": [
        {
          "output_type": "execute_result",
          "data": {
            "text/plain": [
              "[3, 2, 1]"
            ]
          },
          "metadata": {},
          "execution_count": 16
        }
      ]
    },
    {
      "cell_type": "code",
      "source": [
        "x.sort(key=lambda x: x if x %2 ==0 else 10 * x)\n",
        "x # 3 becomes 30, 2 becomes 2, 1 becomes 10, and sort them by this new value"
      ],
      "metadata": {
        "colab": {
          "base_uri": "https://localhost:8080/"
        },
        "id": "Ob0OPyUvIQVy",
        "outputId": "00b63b59-7c83-4505-e213-2d732c44d4ec"
      },
      "execution_count": null,
      "outputs": [
        {
          "output_type": "execute_result",
          "data": {
            "text/plain": [
              "[2, 1, 3]"
            ]
          },
          "metadata": {},
          "execution_count": 18
        }
      ]
    },
    {
      "cell_type": "code",
      "source": [
        "#apply_function is a mini version of map\n",
        "#alternative of list comprehension\n",
        "\n",
        "\n",
        "list(map(lambda x: x**2, [1,2,3,4,5])) #lazily evaluate\n",
        "\n"
      ],
      "metadata": {
        "colab": {
          "base_uri": "https://localhost:8080/"
        },
        "id": "tBBKWaa1KVlE",
        "outputId": "8749360c-8626-4997-feae-b6fc75d47b27"
      },
      "execution_count": null,
      "outputs": [
        {
          "output_type": "execute_result",
          "data": {
            "text/plain": [
              "[1, 4, 9, 16, 25]"
            ]
          },
          "metadata": {},
          "execution_count": 20
        }
      ]
    },
    {
      "cell_type": "code",
      "source": [],
      "metadata": {
        "id": "at3lloZfKlJj"
      },
      "execution_count": null,
      "outputs": []
    }
  ]
}