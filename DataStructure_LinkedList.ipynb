{
  "nbformat": 4,
  "nbformat_minor": 0,
  "metadata": {
    "colab": {
      "provenance": [],
      "authorship_tag": "ABX9TyMxLMwMAopJ6SV3Za61Y0x1",
      "include_colab_link": true
    },
    "kernelspec": {
      "name": "python3",
      "display_name": "Python 3"
    },
    "language_info": {
      "name": "python"
    }
  },
  "cells": [
    {
      "cell_type": "markdown",
      "metadata": {
        "id": "view-in-github",
        "colab_type": "text"
      },
      "source": [
        "<a href=\"https://colab.research.google.com/github/YeongjiLee0115/githubtest/blob/main/DataStructure_LinkedList.ipynb\" target=\"_parent\"><img src=\"https://colab.research.google.com/assets/colab-badge.svg\" alt=\"Open In Colab\"/></a>"
      ]
    },
    {
      "cell_type": "markdown",
      "source": [
        "**LinkedList**"
      ],
      "metadata": {
        "id": "fFPTHbfb62W9"
      }
    },
    {
      "cell_type": "code",
      "execution_count": 2,
      "metadata": {
        "id": "hIGNCTWI13I8"
      },
      "outputs": [],
      "source": [
        "class LinkedList():\n",
        "  def __init__(self, val=None, next=None): #__init__(self, ) is the same for all\n",
        "    self.val = val\n",
        "    self.next = next\n"
      ]
    },
    {
      "cell_type": "code",
      "source": [
        "a = LinkedList(val=1)\n",
        "b = LinkedList(val=2)\n",
        "\n",
        "a.next = b"
      ],
      "metadata": {
        "id": "3uWOJMyV3YD2"
      },
      "execution_count": 4,
      "outputs": []
    },
    {
      "cell_type": "code",
      "source": [
        "a.val"
      ],
      "metadata": {
        "colab": {
          "base_uri": "https://localhost:8080/"
        },
        "id": "Uzm820O73lR7",
        "outputId": "4c6dd802-e119-4540-d401-cd57b7b2a166"
      },
      "execution_count": 5,
      "outputs": [
        {
          "output_type": "execute_result",
          "data": {
            "text/plain": [
              "1"
            ]
          },
          "metadata": {},
          "execution_count": 5
        }
      ]
    },
    {
      "cell_type": "code",
      "source": [
        "b.val"
      ],
      "metadata": {
        "colab": {
          "base_uri": "https://localhost:8080/"
        },
        "id": "b-HcY0K93miI",
        "outputId": "80e7fa13-e3cf-4548-b591-93912a79f0a7"
      },
      "execution_count": 6,
      "outputs": [
        {
          "output_type": "execute_result",
          "data": {
            "text/plain": [
              "2"
            ]
          },
          "metadata": {},
          "execution_count": 6
        }
      ]
    },
    {
      "cell_type": "code",
      "source": [
        "a.next #this is just a pointer. doesn't actually store the value"
      ],
      "metadata": {
        "colab": {
          "base_uri": "https://localhost:8080/"
        },
        "id": "hEFlkzFB3naG",
        "outputId": "6191baa0-b98f-4b29-9fb2-2d3a25284a76"
      },
      "execution_count": 12,
      "outputs": [
        {
          "output_type": "execute_result",
          "data": {
            "text/plain": [
              "<__main__.LinkedList at 0x7effcac23190>"
            ]
          },
          "metadata": {},
          "execution_count": 12
        }
      ]
    },
    {
      "cell_type": "code",
      "source": [
        "a.next.val "
      ],
      "metadata": {
        "colab": {
          "base_uri": "https://localhost:8080/"
        },
        "id": "zGWLy9lC32Dq",
        "outputId": "83864415-c6cb-47b4-ce89-2ddcb375b35c"
      },
      "execution_count": 13,
      "outputs": [
        {
          "output_type": "execute_result",
          "data": {
            "text/plain": [
              "3"
            ]
          },
          "metadata": {},
          "execution_count": 13
        }
      ]
    },
    {
      "cell_type": "code",
      "source": [
        "b.val=2 # I updated the value"
      ],
      "metadata": {
        "id": "fPLXk_nI3qjs"
      },
      "execution_count": 16,
      "outputs": []
    },
    {
      "cell_type": "code",
      "source": [
        "a.next.val # and it updates as well. Because it's just pointer"
      ],
      "metadata": {
        "colab": {
          "base_uri": "https://localhost:8080/"
        },
        "id": "_OqcloED3soy",
        "outputId": "d4b66e78-81e7-43c2-9f8a-81cd0ce5dfed"
      },
      "execution_count": 14,
      "outputs": [
        {
          "output_type": "execute_result",
          "data": {
            "text/plain": [
              "3"
            ]
          },
          "metadata": {},
          "execution_count": 14
        }
      ]
    },
    {
      "cell_type": "code",
      "source": [
        "c = LinkedList(val=3)"
      ],
      "metadata": {
        "id": "MdwPa0Io38pS"
      },
      "execution_count": 17,
      "outputs": []
    },
    {
      "cell_type": "code",
      "source": [
        "b.next = c"
      ],
      "metadata": {
        "id": "oda2Kiz_4EGo"
      },
      "execution_count": 18,
      "outputs": []
    },
    {
      "cell_type": "code",
      "source": [
        "c.val = 10 # I updated the value again from 3 to 10"
      ],
      "metadata": {
        "id": "vqcNQrMf4FwH"
      },
      "execution_count": 19,
      "outputs": []
    },
    {
      "cell_type": "code",
      "source": [
        "b.next.val # And it updates. This means that I can explore and play around the data"
      ],
      "metadata": {
        "colab": {
          "base_uri": "https://localhost:8080/"
        },
        "id": "NOiargto4ITY",
        "outputId": "3a9dfdca-db5f-43cb-9968-2e01212f03b2"
      },
      "execution_count": 20,
      "outputs": [
        {
          "output_type": "execute_result",
          "data": {
            "text/plain": [
              "10"
            ]
          },
          "metadata": {},
          "execution_count": 20
        }
      ]
    },
    {
      "cell_type": "code",
      "source": [
        "# double linked list \n",
        "class LinkedList():\n",
        "  def __init__(self, val=None, next=None, prev=None): #__init__(self, ) is the same for all\n",
        "    self.val = val\n",
        "    self.next = next\n",
        "    self.prev = prev #extra pointer. but you can move backward easily too."
      ],
      "metadata": {
        "id": "_biXuCGx4Ty1"
      },
      "execution_count": null,
      "outputs": []
    },
    {
      "cell_type": "markdown",
      "source": [
        "**BinaryTree**"
      ],
      "metadata": {
        "id": "AyRjdkqB5v96"
      }
    },
    {
      "cell_type": "code",
      "source": [
        "#Load first thing, if this is bigger than reference go to \"a\" else \"b\"\n",
        "#binary search tree\n",
        "\n",
        "class BinaryTree():\n",
        "  def __init__(self, val=None, left=None, right=None):\n",
        "    self.val = val\n",
        "    self.left = left\n",
        "    self.right = right\n",
        "    "
      ],
      "metadata": {
        "id": "wYbIlQyw4spv"
      },
      "execution_count": 21,
      "outputs": []
    },
    {
      "cell_type": "code",
      "source": [
        "x1 = BinaryTree(val=1)\n",
        "x2 = BinaryTree(val=2)\n",
        "x3 = BinaryTree(val=3)\n",
        "\n",
        "x1.left = x2\n",
        "x1.right = x3\n"
      ],
      "metadata": {
        "id": "XQXYD_Sc5mg9"
      },
      "execution_count": 23,
      "outputs": []
    },
    {
      "cell_type": "code",
      "source": [
        "x1.right.val"
      ],
      "metadata": {
        "colab": {
          "base_uri": "https://localhost:8080/"
        },
        "id": "OJRt8lQs55Sy",
        "outputId": "d0989368-dc48-49e8-bd5a-223706091c29"
      },
      "execution_count": 24,
      "outputs": [
        {
          "output_type": "execute_result",
          "data": {
            "text/plain": [
              "3"
            ]
          },
          "metadata": {},
          "execution_count": 24
        }
      ]
    },
    {
      "cell_type": "code",
      "source": [
        "class BinaryTree():\n",
        "  def __init__(self, val=None, children=[]):\n",
        "    self.val = val\n",
        "    self.children = children #instead of binary, having n number of sub-nodes"
      ],
      "metadata": {
        "id": "yZVZGEJC6RsS"
      },
      "execution_count": null,
      "outputs": []
    }
  ]
}